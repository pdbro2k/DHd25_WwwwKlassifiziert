{
 "cells": [
  {
   "cell_type": "code",
   "execution_count": 1,
   "metadata": {},
   "outputs": [],
   "source": [
    "import torch\n",
    "\n",
    "from IPython.display import display, HTML\n",
    "\n",
    "from modules import classification, explanation"
   ]
  },
  {
   "cell_type": "code",
   "execution_count": 2,
   "metadata": {},
   "outputs": [],
   "source": [
    "DEVICE = torch.device(\"cuda:0\" if torch.cuda.is_available() else \"cpu\") # Use either CUDA if possible or the slower CPU\n",
    "\n",
    "CLASSIFIER_PATH = \"oliverguhr/german-sentiment-bert\""
   ]
  },
  {
   "cell_type": "markdown",
   "metadata": {},
   "source": [
    "# Load Data"
   ]
  },
  {
   "cell_type": "code",
   "execution_count": 12,
   "metadata": {},
   "outputs": [],
   "source": [
    "texts = [\n",
    "    \"Da die unsicheren Zustände im heimathlichen Rheingau ihm keine Zukunft bieten konnten, suchte er die Verbindung mit der Regierung der an der andern Seite des Rheins ausblühenden Frankenrepublik.\",\n",
    "    \"Heftige Steigerung seines körperlichen Leidens hinderten ihn am Besuch der Universität Berlin und trieben ihn nach der Schweiz zurück, von wo er sich nach erfolgter Besserung nach Nürnberg begab, um die Stelle seines Bruders zu übernehmen.\",\n",
    "    \"Dem Glücklichen wurde aber auch noch die Freude zu Theil, am 21. April 1840 sein 50jähriges Dienstjubiläum zu feiern, bei welchem Anlaß er vom König eigenhändig mit dem Ehrenkreuz des Ludwigsordens geschmückt wurde.\",\n",
    "    \"Das ist ein besonders schlechter Test\",\n",
    "    \"Das ist ein besonders guter Test\"\n",
    "]\n"
   ]
  },
  {
   "cell_type": "markdown",
   "metadata": {},
   "source": [
    "# 1. Classify Data"
   ]
  },
  {
   "cell_type": "code",
   "execution_count": 4,
   "metadata": {},
   "outputs": [
    {
     "name": "stderr",
     "output_type": "stream",
     "text": [
      "Device set to use cpu\n"
     ]
    }
   ],
   "source": [
    "classifier = classification.TernarySentimentClassifier(CLASSIFIER_PATH, DEVICE)"
   ]
  },
  {
   "cell_type": "code",
   "execution_count": 13,
   "metadata": {},
   "outputs": [
    {
     "name": "stdout",
     "output_type": "stream",
     "text": [
      "Da die unsicheren Zustände im heimathlichen Rheingau ihm keine Zukunft bieten konnten, suchte er die Verbindung mit der Regierung der an der andern Seite des Rheins ausblühenden Frankenrepublik.\n",
      "{'label': 'neutral', 'score': 0.9999912977218628}\n",
      "Heftige Steigerung seines körperlichen Leidens hinderten ihn am Besuch der Universität Berlin und trieben ihn nach der Schweiz zurück, von wo er sich nach erfolgter Besserung nach Nürnberg begab, um die Stelle seines Bruders zu übernehmen.\n",
      "{'label': 'neutral', 'score': 0.9999911785125732}\n",
      "Dem Glücklichen wurde aber auch noch die Freude zu Theil, am 21. April 1840 sein 50jähriges Dienstjubiläum zu feiern, bei welchem Anlaß er vom König eigenhändig mit dem Ehrenkreuz des Ludwigsordens geschmückt wurde.\n",
      "{'label': 'neutral', 'score': 0.9999912977218628}\n",
      "Das ist ein besonders schlechter Test\n",
      "{'label': 'negative', 'score': 0.9983031749725342}\n",
      "Das ist ein besonders guter Test\n",
      "{'label': 'positive', 'score': 0.9883934855461121}\n"
     ]
    }
   ],
   "source": [
    "for text in texts:\n",
    "    print(text)\n",
    "    print(classifier.classify(text))"
   ]
  },
  {
   "cell_type": "markdown",
   "metadata": {},
   "source": [
    "# 5. Explain Classifications"
   ]
  },
  {
   "cell_type": "code",
   "execution_count": 6,
   "metadata": {},
   "outputs": [
    {
     "name": "stderr",
     "output_type": "stream",
     "text": [
      "Some weights of BertForSequenceClassification were not initialized from the model checkpoint at oliverguhr/german-sentiment-bert and are newly initialized: ['bert.embeddings.position_ids']\n",
      "You should probably TRAIN this model on a down-stream task to be able to use it for predictions and inference.\n"
     ]
    }
   ],
   "source": [
    "explainer = explanation.BertExplainer(CLASSIFIER_PATH, DEVICE)"
   ]
  },
  {
   "cell_type": "markdown",
   "metadata": {},
   "source": [
    "## 5.1 Use Default Colorization"
   ]
  },
  {
   "cell_type": "code",
   "execution_count": 14,
   "metadata": {},
   "outputs": [
    {
     "name": "stderr",
     "output_type": "stream",
     "text": [
      "/home/pb/Dokumente/GitHub/DHd25_WwwwKlassifiziert/.venv/lib/python3.12/site-packages/transformers/modeling_utils.py:1113: FutureWarning: The `device` argument is deprecated and will be removed in v5 of Transformers.\n",
      "  warnings.warn(\n"
     ]
    },
    {
     "data": {
      "text/html": [
       "<span style=\"background-color: hsl(341, 100%, 83%)\">Da</span> <span style=\"background-color: hsl(341, 100%, 80%)\">die</span> <span style=\"background-color: hsl(341, 100%, 62%)\">unsicher</span><span style=\"background-color: hsl(341, 100%, 80%)\">en</span> <span style=\"background-color: hsl(341, 100%, 71%)\">Zustände</span> <span style=\"background-color: hsl(341, 100%, 89%)\">im</span> <span style=\"background-color: hsl(341, 100%, 56%)\">heim</span><span style=\"background-color: hsl(341, 100%, 61%)\">ath</span><span style=\"background-color: hsl(341, 100%, 77%)\">lichen</span> <span style=\"background-color: hsl(341, 100%, 87%)\">Rhein</span><span style=\"background-color: hsl(341, 100%, 50%)\">gau</span> <span style=\"background-color: hsl(341, 100%, 77%)\">ihm</span> <span style=\"background-color: hsl(341, 100%, 75%)\">keine</span> <span style=\"background-color: hsl(341, 100%, 80%)\">Zukunft</span> <span style=\"background-color: hsl(341, 100%, 74%)\">bieten</span> <span style=\"background-color: hsl(341, 100%, 79%)\">konnten</span><span style=\"background-color: hsl(341, 100%, 86%)\">,</span> <span style=\"background-color: hsl(341, 100%, 86%)\">suchte</span> <span style=\"background-color: hsl(341, 100%, 73%)\">er</span> <span style=\"background-color: hsl(341, 100%, 77%)\">die</span> <span style=\"background-color: hsl(341, 100%, 66%)\">Verbindung</span> <span style=\"background-color: hsl(341, 100%, 90%)\">mit</span> <span style=\"background-color: hsl(341, 100%, 88%)\">der</span> <span style=\"background-color: hsl(341, 100%, 83%)\">Regierung</span> <span style=\"background-color: hsl(341, 100%, 88%)\">der</span> <span style=\"background-color: hsl(341, 100%, 89%)\">an</span> <span style=\"background-color: hsl(341, 100%, 89%)\">der</span> <span style=\"background-color: hsl(341, 100%, 71%)\">andern</span> <span style=\"background-color: hsl(341, 100%, 90%)\">Seite</span> <span style=\"background-color: hsl(341, 100%, 83%)\">des</span> <span style=\"background-color: hsl(341, 100%, 69%)\">Rhein</span><span style=\"background-color: hsl(341, 100%, 70%)\">s</span> <span style=\"background-color: hsl(341, 100%, 75%)\">ausb</span><span style=\"background-color: hsl(341, 100%, 57%)\">lü</span><span style=\"background-color: hsl(341, 100%, 77%)\">henden</span> <span style=\"background-color: hsl(341, 100%, 75%)\">Franken</span><span style=\"background-color: hsl(341, 100%, 52%)\">republik</span><span style=\"background-color: hsl(341, 100%, 92%)\">.</span>"
      ],
      "text/plain": [
       "<IPython.core.display.HTML object>"
      ]
     },
     "metadata": {},
     "output_type": "display_data"
    },
    {
     "data": {
      "text/html": [
       "<span style=\"background-color: hsl(341, 100%, 72%)\">Heft</span><span style=\"background-color: hsl(341, 100%, 70%)\">ige</span> <span style=\"background-color: hsl(341, 100%, 68%)\">Steigerung</span> <span style=\"background-color: hsl(341, 100%, 70%)\">seines</span> <span style=\"background-color: hsl(341, 100%, 50%)\">körperlichen</span> <span style=\"background-color: hsl(341, 100%, 66%)\">Leiden</span><span style=\"background-color: hsl(341, 100%, 83%)\">s</span> <span style=\"background-color: hsl(341, 100%, 84%)\">hind</span><span style=\"background-color: hsl(341, 100%, 87%)\">erte</span><span style=\"background-color: hsl(341, 100%, 86%)\">n</span> <span style=\"background-color: hsl(341, 100%, 71%)\">ihn</span> <span style=\"background-color: hsl(341, 100%, 84%)\">am</span> <span style=\"background-color: hsl(341, 100%, 84%)\">Besuch</span> <span style=\"background-color: hsl(341, 100%, 89%)\">der</span> <span style=\"background-color: hsl(341, 100%, 70%)\">Universität</span> <span style=\"background-color: hsl(341, 100%, 78%)\">Berlin</span> <span style=\"background-color: hsl(341, 100%, 88%)\">und</span> <span style=\"background-color: hsl(341, 100%, 77%)\">trieb</span><span style=\"background-color: hsl(341, 100%, 84%)\">en</span> <span style=\"background-color: hsl(341, 100%, 69%)\">ihn</span> <span style=\"background-color: hsl(341, 100%, 81%)\">nach</span> <span style=\"background-color: hsl(341, 100%, 87%)\">der</span> <span style=\"background-color: hsl(341, 100%, 78%)\">Schweiz</span> <span style=\"background-color: hsl(341, 100%, 85%)\">zurück</span><span style=\"background-color: hsl(341, 100%, 75%)\">,</span> <span style=\"background-color: hsl(341, 100%, 83%)\">von</span> <span style=\"background-color: hsl(341, 100%, 81%)\">wo</span> <span style=\"background-color: hsl(341, 100%, 71%)\">er</span> <span style=\"background-color: hsl(341, 100%, 77%)\">sich</span> <span style=\"background-color: hsl(341, 100%, 70%)\">nach</span> <span style=\"background-color: hsl(341, 100%, 58%)\">erfolgte</span><span style=\"background-color: hsl(341, 100%, 78%)\">r</span> <span style=\"background-color: hsl(341, 100%, 74%)\">Besser</span><span style=\"background-color: hsl(341, 100%, 79%)\">ung</span> <span style=\"background-color: hsl(341, 100%, 79%)\">nach</span> <span style=\"background-color: hsl(341, 100%, 72%)\">Nürnberg</span> <span style=\"background-color: hsl(341, 100%, 74%)\">begab</span><span style=\"background-color: hsl(341, 100%, 80%)\">,</span> <span style=\"background-color: hsl(341, 100%, 87%)\">um</span> <span style=\"background-color: hsl(341, 100%, 81%)\">die</span> <span style=\"background-color: hsl(341, 100%, 73%)\">Stelle</span> <span style=\"background-color: hsl(341, 100%, 62%)\">seines</span> <span style=\"background-color: hsl(341, 100%, 65%)\">Bruders</span> <span style=\"background-color: hsl(341, 100%, 82%)\">zu</span> <span style=\"background-color: hsl(341, 100%, 64%)\">übernehmen</span><span style=\"background-color: hsl(341, 100%, 100%)\">.</span>"
      ],
      "text/plain": [
       "<IPython.core.display.HTML object>"
      ]
     },
     "metadata": {},
     "output_type": "display_data"
    },
    {
     "data": {
      "text/html": [
       "<span style=\"background-color: hsl(341, 100%, 77%)\">Dem</span> <span style=\"background-color: hsl(341, 100%, 73%)\">Glück</span><span style=\"background-color: hsl(341, 100%, 74%)\">lichen</span> <span style=\"background-color: hsl(341, 100%, 58%)\">wurde</span> <span style=\"background-color: hsl(341, 100%, 75%)\">aber</span> <span style=\"background-color: hsl(341, 100%, 82%)\">auch</span> <span style=\"background-color: hsl(341, 100%, 79%)\">noch</span> <span style=\"background-color: hsl(341, 100%, 79%)\">die</span> <span style=\"background-color: hsl(341, 100%, 82%)\">Freude</span> <span style=\"background-color: hsl(341, 100%, 70%)\">zu</span> <span style=\"background-color: hsl(341, 100%, 91%)\">The</span><span style=\"background-color: hsl(341, 100%, 73%)\">il</span><span style=\"background-color: hsl(341, 100%, 84%)\">,</span> <span style=\"background-color: hsl(341, 100%, 61%)\">am</span> <span style=\"background-color: hsl(341, 100%, 75%)\">21</span><span style=\"background-color: hsl(341, 100%, 62%)\">.</span> <span style=\"background-color: hsl(341, 100%, 75%)\">April</span> <span style=\"background-color: hsl(341, 100%, 72%)\">1840</span> <span style=\"background-color: hsl(341, 100%, 63%)\">sein</span> <span style=\"background-color: hsl(341, 100%, 86%)\">50</span><span style=\"background-color: hsl(341, 100%, 67%)\">jähriges</span> <span style=\"background-color: hsl(341, 100%, 81%)\">Dienst</span><span style=\"background-color: hsl(341, 100%, 78%)\">jub</span><span style=\"background-color: hsl(341, 100%, 76%)\">il</span><span style=\"background-color: hsl(341, 100%, 65%)\">äum</span> <span style=\"background-color: hsl(341, 100%, 73%)\">zu</span> <span style=\"background-color: hsl(341, 100%, 69%)\">feiern</span><span style=\"background-color: hsl(341, 100%, 75%)\">,</span> <span style=\"background-color: hsl(341, 100%, 76%)\">bei</span> <span style=\"background-color: hsl(341, 100%, 81%)\">welchem</span> <span style=\"background-color: hsl(341, 100%, 88%)\">An</span><span style=\"background-color: hsl(341, 100%, 94%)\">la</span><span style=\"background-color: hsl(341, 100%, 87%)\">ß</span> <span style=\"background-color: hsl(341, 100%, 60%)\">er</span> <span style=\"background-color: hsl(341, 100%, 71%)\">vom</span> <span style=\"background-color: hsl(341, 100%, 80%)\">König</span> <span style=\"background-color: hsl(341, 100%, 77%)\">eigen</span><span style=\"background-color: hsl(341, 100%, 95%)\">hän</span><span style=\"background-color: hsl(341, 100%, 92%)\">dig</span> <span style=\"background-color: hsl(341, 100%, 76%)\">mit</span> <span style=\"background-color: hsl(341, 100%, 79%)\">dem</span> <span style=\"background-color: hsl(341, 100%, 84%)\">Ehren</span><span style=\"background-color: hsl(341, 100%, 60%)\">kreuz</span> <span style=\"background-color: hsl(341, 100%, 75%)\">des</span> <span style=\"background-color: hsl(341, 100%, 76%)\">Ludwigs</span><span style=\"background-color: hsl(341, 100%, 50%)\">ordens</span> <span style=\"background-color: hsl(341, 100%, 78%)\">geschm</span><span style=\"background-color: hsl(341, 100%, 81%)\">ückt</span> <span style=\"background-color: hsl(341, 100%, 64%)\">wurde</span><span style=\"background-color: hsl(341, 100%, 80%)\">.</span>"
      ],
      "text/plain": [
       "<IPython.core.display.HTML object>"
      ]
     },
     "metadata": {},
     "output_type": "display_data"
    },
    {
     "data": {
      "text/html": [
       "<span style=\"background-color: hsl(341, 100%, 100%)\">Das</span> <span style=\"background-color: hsl(341, 100%, 71%)\">ist</span> <span style=\"background-color: hsl(341, 100%, 70%)\">ein</span> <span style=\"background-color: hsl(341, 100%, 64%)\">besonders</span> <span style=\"background-color: hsl(341, 100%, 50%)\">schlechter</span> <span style=\"background-color: hsl(341, 100%, 93%)\">Test</span>"
      ],
      "text/plain": [
       "<IPython.core.display.HTML object>"
      ]
     },
     "metadata": {},
     "output_type": "display_data"
    },
    {
     "data": {
      "text/html": [
       "<span style=\"background-color: hsl(341, 100%, 100%)\">Das</span> <span style=\"background-color: hsl(341, 100%, 85%)\">ist</span> <span style=\"background-color: hsl(341, 100%, 86%)\">ein</span> <span style=\"background-color: hsl(341, 100%, 84%)\">besonders</span> <span style=\"background-color: hsl(341, 100%, 50%)\">guter</span> <span style=\"background-color: hsl(341, 100%, 98%)\">Test</span>"
      ],
      "text/plain": [
       "<IPython.core.display.HTML object>"
      ]
     },
     "metadata": {},
     "output_type": "display_data"
    }
   ],
   "source": [
    "for text in texts:\n",
    "    display(HTML( explainer.to_html(explainer.explain(text)) ))"
   ]
  },
  {
   "cell_type": "markdown",
   "metadata": {},
   "source": [
    "## 5.2 Use Custom Colorization"
   ]
  },
  {
   "cell_type": "code",
   "execution_count": 15,
   "metadata": {},
   "outputs": [
    {
     "data": {
      "text/html": [
       "<span style=\"background-color: hsl(239, 100%, 83%)\">Da</span> <span style=\"background-color: hsl(239, 100%, 80%)\">die</span> <span style=\"background-color: hsl(239, 100%, 62%)\">unsicher</span><span style=\"background-color: hsl(239, 100%, 80%)\">en</span> <span style=\"background-color: hsl(239, 100%, 71%)\">Zustände</span> <span style=\"background-color: hsl(239, 100%, 89%)\">im</span> <span style=\"background-color: hsl(239, 100%, 56%)\">heim</span><span style=\"background-color: hsl(239, 100%, 61%)\">ath</span><span style=\"background-color: hsl(239, 100%, 77%)\">lichen</span> <span style=\"background-color: hsl(239, 100%, 87%)\">Rhein</span><span style=\"background-color: hsl(239, 100%, 50%)\">gau</span> <span style=\"background-color: hsl(239, 100%, 77%)\">ihm</span> <span style=\"background-color: hsl(239, 100%, 75%)\">keine</span> <span style=\"background-color: hsl(239, 100%, 80%)\">Zukunft</span> <span style=\"background-color: hsl(239, 100%, 74%)\">bieten</span> <span style=\"background-color: hsl(239, 100%, 79%)\">konnten</span><span style=\"background-color: hsl(239, 100%, 86%)\">,</span> <span style=\"background-color: hsl(239, 100%, 86%)\">suchte</span> <span style=\"background-color: hsl(239, 100%, 73%)\">er</span> <span style=\"background-color: hsl(239, 100%, 77%)\">die</span> <span style=\"background-color: hsl(239, 100%, 66%)\">Verbindung</span> <span style=\"background-color: hsl(239, 100%, 90%)\">mit</span> <span style=\"background-color: hsl(239, 100%, 88%)\">der</span> <span style=\"background-color: hsl(239, 100%, 83%)\">Regierung</span> <span style=\"background-color: hsl(239, 100%, 88%)\">der</span> <span style=\"background-color: hsl(239, 100%, 89%)\">an</span> <span style=\"background-color: hsl(239, 100%, 89%)\">der</span> <span style=\"background-color: hsl(239, 100%, 71%)\">andern</span> <span style=\"background-color: hsl(239, 100%, 90%)\">Seite</span> <span style=\"background-color: hsl(239, 100%, 83%)\">des</span> <span style=\"background-color: hsl(239, 100%, 69%)\">Rhein</span><span style=\"background-color: hsl(239, 100%, 70%)\">s</span> <span style=\"background-color: hsl(239, 100%, 75%)\">ausb</span><span style=\"background-color: hsl(239, 100%, 57%)\">lü</span><span style=\"background-color: hsl(239, 100%, 77%)\">henden</span> <span style=\"background-color: hsl(239, 100%, 75%)\">Franken</span><span style=\"background-color: hsl(239, 100%, 52%)\">republik</span><span style=\"background-color: hsl(239, 100%, 92%)\">.</span>"
      ],
      "text/plain": [
       "<IPython.core.display.HTML object>"
      ]
     },
     "metadata": {},
     "output_type": "display_data"
    },
    {
     "data": {
      "text/html": [
       "<span style=\"background-color: hsl(239, 100%, 72%)\">Heft</span><span style=\"background-color: hsl(239, 100%, 70%)\">ige</span> <span style=\"background-color: hsl(239, 100%, 68%)\">Steigerung</span> <span style=\"background-color: hsl(239, 100%, 70%)\">seines</span> <span style=\"background-color: hsl(239, 100%, 50%)\">körperlichen</span> <span style=\"background-color: hsl(239, 100%, 66%)\">Leiden</span><span style=\"background-color: hsl(239, 100%, 83%)\">s</span> <span style=\"background-color: hsl(239, 100%, 84%)\">hind</span><span style=\"background-color: hsl(239, 100%, 87%)\">erte</span><span style=\"background-color: hsl(239, 100%, 86%)\">n</span> <span style=\"background-color: hsl(239, 100%, 71%)\">ihn</span> <span style=\"background-color: hsl(239, 100%, 84%)\">am</span> <span style=\"background-color: hsl(239, 100%, 84%)\">Besuch</span> <span style=\"background-color: hsl(239, 100%, 89%)\">der</span> <span style=\"background-color: hsl(239, 100%, 70%)\">Universität</span> <span style=\"background-color: hsl(239, 100%, 78%)\">Berlin</span> <span style=\"background-color: hsl(239, 100%, 88%)\">und</span> <span style=\"background-color: hsl(239, 100%, 77%)\">trieb</span><span style=\"background-color: hsl(239, 100%, 84%)\">en</span> <span style=\"background-color: hsl(239, 100%, 69%)\">ihn</span> <span style=\"background-color: hsl(239, 100%, 81%)\">nach</span> <span style=\"background-color: hsl(239, 100%, 87%)\">der</span> <span style=\"background-color: hsl(239, 100%, 78%)\">Schweiz</span> <span style=\"background-color: hsl(239, 100%, 85%)\">zurück</span><span style=\"background-color: hsl(239, 100%, 75%)\">,</span> <span style=\"background-color: hsl(239, 100%, 83%)\">von</span> <span style=\"background-color: hsl(239, 100%, 81%)\">wo</span> <span style=\"background-color: hsl(239, 100%, 71%)\">er</span> <span style=\"background-color: hsl(239, 100%, 77%)\">sich</span> <span style=\"background-color: hsl(239, 100%, 70%)\">nach</span> <span style=\"background-color: hsl(239, 100%, 58%)\">erfolgte</span><span style=\"background-color: hsl(239, 100%, 78%)\">r</span> <span style=\"background-color: hsl(239, 100%, 74%)\">Besser</span><span style=\"background-color: hsl(239, 100%, 79%)\">ung</span> <span style=\"background-color: hsl(239, 100%, 79%)\">nach</span> <span style=\"background-color: hsl(239, 100%, 72%)\">Nürnberg</span> <span style=\"background-color: hsl(239, 100%, 74%)\">begab</span><span style=\"background-color: hsl(239, 100%, 80%)\">,</span> <span style=\"background-color: hsl(239, 100%, 87%)\">um</span> <span style=\"background-color: hsl(239, 100%, 81%)\">die</span> <span style=\"background-color: hsl(239, 100%, 73%)\">Stelle</span> <span style=\"background-color: hsl(239, 100%, 62%)\">seines</span> <span style=\"background-color: hsl(239, 100%, 65%)\">Bruders</span> <span style=\"background-color: hsl(239, 100%, 82%)\">zu</span> <span style=\"background-color: hsl(239, 100%, 64%)\">übernehmen</span><span style=\"background-color: hsl(239, 100%, 100%)\">.</span>"
      ],
      "text/plain": [
       "<IPython.core.display.HTML object>"
      ]
     },
     "metadata": {},
     "output_type": "display_data"
    },
    {
     "data": {
      "text/html": [
       "<span style=\"background-color: hsl(239, 100%, 77%)\">Dem</span> <span style=\"background-color: hsl(239, 100%, 73%)\">Glück</span><span style=\"background-color: hsl(239, 100%, 74%)\">lichen</span> <span style=\"background-color: hsl(239, 100%, 58%)\">wurde</span> <span style=\"background-color: hsl(239, 100%, 75%)\">aber</span> <span style=\"background-color: hsl(239, 100%, 82%)\">auch</span> <span style=\"background-color: hsl(239, 100%, 79%)\">noch</span> <span style=\"background-color: hsl(239, 100%, 79%)\">die</span> <span style=\"background-color: hsl(239, 100%, 82%)\">Freude</span> <span style=\"background-color: hsl(239, 100%, 70%)\">zu</span> <span style=\"background-color: hsl(239, 100%, 91%)\">The</span><span style=\"background-color: hsl(239, 100%, 73%)\">il</span><span style=\"background-color: hsl(239, 100%, 84%)\">,</span> <span style=\"background-color: hsl(239, 100%, 61%)\">am</span> <span style=\"background-color: hsl(239, 100%, 75%)\">21</span><span style=\"background-color: hsl(239, 100%, 62%)\">.</span> <span style=\"background-color: hsl(239, 100%, 75%)\">April</span> <span style=\"background-color: hsl(239, 100%, 72%)\">1840</span> <span style=\"background-color: hsl(239, 100%, 63%)\">sein</span> <span style=\"background-color: hsl(239, 100%, 86%)\">50</span><span style=\"background-color: hsl(239, 100%, 67%)\">jähriges</span> <span style=\"background-color: hsl(239, 100%, 81%)\">Dienst</span><span style=\"background-color: hsl(239, 100%, 78%)\">jub</span><span style=\"background-color: hsl(239, 100%, 76%)\">il</span><span style=\"background-color: hsl(239, 100%, 65%)\">äum</span> <span style=\"background-color: hsl(239, 100%, 73%)\">zu</span> <span style=\"background-color: hsl(239, 100%, 69%)\">feiern</span><span style=\"background-color: hsl(239, 100%, 75%)\">,</span> <span style=\"background-color: hsl(239, 100%, 76%)\">bei</span> <span style=\"background-color: hsl(239, 100%, 81%)\">welchem</span> <span style=\"background-color: hsl(239, 100%, 88%)\">An</span><span style=\"background-color: hsl(239, 100%, 94%)\">la</span><span style=\"background-color: hsl(239, 100%, 87%)\">ß</span> <span style=\"background-color: hsl(239, 100%, 60%)\">er</span> <span style=\"background-color: hsl(239, 100%, 71%)\">vom</span> <span style=\"background-color: hsl(239, 100%, 80%)\">König</span> <span style=\"background-color: hsl(239, 100%, 77%)\">eigen</span><span style=\"background-color: hsl(239, 100%, 95%)\">hän</span><span style=\"background-color: hsl(239, 100%, 92%)\">dig</span> <span style=\"background-color: hsl(239, 100%, 76%)\">mit</span> <span style=\"background-color: hsl(239, 100%, 79%)\">dem</span> <span style=\"background-color: hsl(239, 100%, 84%)\">Ehren</span><span style=\"background-color: hsl(239, 100%, 60%)\">kreuz</span> <span style=\"background-color: hsl(239, 100%, 75%)\">des</span> <span style=\"background-color: hsl(239, 100%, 76%)\">Ludwigs</span><span style=\"background-color: hsl(239, 100%, 50%)\">ordens</span> <span style=\"background-color: hsl(239, 100%, 78%)\">geschm</span><span style=\"background-color: hsl(239, 100%, 81%)\">ückt</span> <span style=\"background-color: hsl(239, 100%, 64%)\">wurde</span><span style=\"background-color: hsl(239, 100%, 80%)\">.</span>"
      ],
      "text/plain": [
       "<IPython.core.display.HTML object>"
      ]
     },
     "metadata": {},
     "output_type": "display_data"
    },
    {
     "data": {
      "text/html": [
       "<span style=\"background-color: hsl(239, 100%, 100%)\">Das</span> <span style=\"background-color: hsl(239, 100%, 71%)\">ist</span> <span style=\"background-color: hsl(239, 100%, 70%)\">ein</span> <span style=\"background-color: hsl(239, 100%, 64%)\">besonders</span> <span style=\"background-color: hsl(239, 100%, 50%)\">schlechter</span> <span style=\"background-color: hsl(239, 100%, 93%)\">Test</span>"
      ],
      "text/plain": [
       "<IPython.core.display.HTML object>"
      ]
     },
     "metadata": {},
     "output_type": "display_data"
    },
    {
     "data": {
      "text/html": [
       "<span style=\"background-color: hsl(239, 100%, 100%)\">Das</span> <span style=\"background-color: hsl(239, 100%, 85%)\">ist</span> <span style=\"background-color: hsl(239, 100%, 86%)\">ein</span> <span style=\"background-color: hsl(239, 100%, 84%)\">besonders</span> <span style=\"background-color: hsl(239, 100%, 50%)\">guter</span> <span style=\"background-color: hsl(239, 100%, 98%)\">Test</span>"
      ],
      "text/plain": [
       "<IPython.core.display.HTML object>"
      ]
     },
     "metadata": {},
     "output_type": "display_data"
    }
   ],
   "source": [
    "def to_bluescale(label: str, score: float) -> str:\n",
    "    lig = 100 - int(50 * score)\n",
    "    return f\"hsl(239, 100%, {lig}%)\"\n",
    "\n",
    "for text in texts:\n",
    "    display(HTML( explainer.to_html(explainer.explain(text), to_bluescale) ))"
   ]
  },
  {
   "cell_type": "markdown",
   "metadata": {},
   "source": [
    "## 5.3 Use Suggested Label-Specific Colorizations"
   ]
  },
  {
   "cell_type": "code",
   "execution_count": 16,
   "metadata": {},
   "outputs": [
    {
     "name": "stderr",
     "output_type": "stream",
     "text": [
      "/home/pb/Dokumente/GitHub/DHd25_WwwwKlassifiziert/.venv/lib/python3.12/site-packages/transformers/modeling_utils.py:1113: FutureWarning: The `device` argument is deprecated and will be removed in v5 of Transformers.\n",
      "  warnings.warn(\n"
     ]
    },
    {
     "data": {
      "text/html": [
       "<span style=\"background-color: hsl(0, 0%, 83%)\">Da</span> <span style=\"background-color: hsl(0, 0%, 80%)\">die</span> <span style=\"background-color: hsl(0, 0%, 62%)\">unsicher</span><span style=\"background-color: hsl(0, 0%, 80%)\">en</span> <span style=\"background-color: hsl(0, 0%, 71%)\">Zustände</span> <span style=\"background-color: hsl(0, 0%, 89%)\">im</span> <span style=\"background-color: hsl(0, 0%, 56%)\">heim</span><span style=\"background-color: hsl(0, 0%, 61%)\">ath</span><span style=\"background-color: hsl(0, 0%, 77%)\">lichen</span> <span style=\"background-color: hsl(0, 0%, 87%)\">Rhein</span><span style=\"background-color: hsl(0, 0%, 50%)\">gau</span> <span style=\"background-color: hsl(0, 0%, 77%)\">ihm</span> <span style=\"background-color: hsl(0, 0%, 75%)\">keine</span> <span style=\"background-color: hsl(0, 0%, 80%)\">Zukunft</span> <span style=\"background-color: hsl(0, 0%, 74%)\">bieten</span> <span style=\"background-color: hsl(0, 0%, 79%)\">konnten</span><span style=\"background-color: hsl(0, 0%, 86%)\">,</span> <span style=\"background-color: hsl(0, 0%, 86%)\">suchte</span> <span style=\"background-color: hsl(0, 0%, 73%)\">er</span> <span style=\"background-color: hsl(0, 0%, 77%)\">die</span> <span style=\"background-color: hsl(0, 0%, 66%)\">Verbindung</span> <span style=\"background-color: hsl(0, 0%, 90%)\">mit</span> <span style=\"background-color: hsl(0, 0%, 88%)\">der</span> <span style=\"background-color: hsl(0, 0%, 83%)\">Regierung</span> <span style=\"background-color: hsl(0, 0%, 88%)\">der</span> <span style=\"background-color: hsl(0, 0%, 89%)\">an</span> <span style=\"background-color: hsl(0, 0%, 89%)\">der</span> <span style=\"background-color: hsl(0, 0%, 71%)\">andern</span> <span style=\"background-color: hsl(0, 0%, 90%)\">Seite</span> <span style=\"background-color: hsl(0, 0%, 83%)\">des</span> <span style=\"background-color: hsl(0, 0%, 69%)\">Rhein</span><span style=\"background-color: hsl(0, 0%, 70%)\">s</span> <span style=\"background-color: hsl(0, 0%, 75%)\">ausb</span><span style=\"background-color: hsl(0, 0%, 57%)\">lü</span><span style=\"background-color: hsl(0, 0%, 77%)\">henden</span> <span style=\"background-color: hsl(0, 0%, 75%)\">Franken</span><span style=\"background-color: hsl(0, 0%, 52%)\">republik</span><span style=\"background-color: hsl(0, 0%, 92%)\">.</span>"
      ],
      "text/plain": [
       "<IPython.core.display.HTML object>"
      ]
     },
     "metadata": {},
     "output_type": "display_data"
    },
    {
     "data": {
      "text/html": [
       "<span style=\"background-color: hsl(0, 0%, 72%)\">Heft</span><span style=\"background-color: hsl(0, 0%, 70%)\">ige</span> <span style=\"background-color: hsl(0, 0%, 68%)\">Steigerung</span> <span style=\"background-color: hsl(0, 0%, 70%)\">seines</span> <span style=\"background-color: hsl(0, 0%, 50%)\">körperlichen</span> <span style=\"background-color: hsl(0, 0%, 66%)\">Leiden</span><span style=\"background-color: hsl(0, 0%, 83%)\">s</span> <span style=\"background-color: hsl(0, 0%, 84%)\">hind</span><span style=\"background-color: hsl(0, 0%, 87%)\">erte</span><span style=\"background-color: hsl(0, 0%, 86%)\">n</span> <span style=\"background-color: hsl(0, 0%, 71%)\">ihn</span> <span style=\"background-color: hsl(0, 0%, 84%)\">am</span> <span style=\"background-color: hsl(0, 0%, 84%)\">Besuch</span> <span style=\"background-color: hsl(0, 0%, 89%)\">der</span> <span style=\"background-color: hsl(0, 0%, 70%)\">Universität</span> <span style=\"background-color: hsl(0, 0%, 78%)\">Berlin</span> <span style=\"background-color: hsl(0, 0%, 88%)\">und</span> <span style=\"background-color: hsl(0, 0%, 77%)\">trieb</span><span style=\"background-color: hsl(0, 0%, 84%)\">en</span> <span style=\"background-color: hsl(0, 0%, 69%)\">ihn</span> <span style=\"background-color: hsl(0, 0%, 81%)\">nach</span> <span style=\"background-color: hsl(0, 0%, 87%)\">der</span> <span style=\"background-color: hsl(0, 0%, 78%)\">Schweiz</span> <span style=\"background-color: hsl(0, 0%, 85%)\">zurück</span><span style=\"background-color: hsl(0, 0%, 75%)\">,</span> <span style=\"background-color: hsl(0, 0%, 83%)\">von</span> <span style=\"background-color: hsl(0, 0%, 81%)\">wo</span> <span style=\"background-color: hsl(0, 0%, 71%)\">er</span> <span style=\"background-color: hsl(0, 0%, 77%)\">sich</span> <span style=\"background-color: hsl(0, 0%, 70%)\">nach</span> <span style=\"background-color: hsl(0, 0%, 58%)\">erfolgte</span><span style=\"background-color: hsl(0, 0%, 78%)\">r</span> <span style=\"background-color: hsl(0, 0%, 74%)\">Besser</span><span style=\"background-color: hsl(0, 0%, 79%)\">ung</span> <span style=\"background-color: hsl(0, 0%, 79%)\">nach</span> <span style=\"background-color: hsl(0, 0%, 72%)\">Nürnberg</span> <span style=\"background-color: hsl(0, 0%, 74%)\">begab</span><span style=\"background-color: hsl(0, 0%, 80%)\">,</span> <span style=\"background-color: hsl(0, 0%, 87%)\">um</span> <span style=\"background-color: hsl(0, 0%, 81%)\">die</span> <span style=\"background-color: hsl(0, 0%, 73%)\">Stelle</span> <span style=\"background-color: hsl(0, 0%, 62%)\">seines</span> <span style=\"background-color: hsl(0, 0%, 65%)\">Bruders</span> <span style=\"background-color: hsl(0, 0%, 82%)\">zu</span> <span style=\"background-color: hsl(0, 0%, 64%)\">übernehmen</span><span style=\"background-color: hsl(0, 0%, 100%)\">.</span>"
      ],
      "text/plain": [
       "<IPython.core.display.HTML object>"
      ]
     },
     "metadata": {},
     "output_type": "display_data"
    },
    {
     "data": {
      "text/html": [
       "<span style=\"background-color: hsl(0, 0%, 77%)\">Dem</span> <span style=\"background-color: hsl(0, 0%, 73%)\">Glück</span><span style=\"background-color: hsl(0, 0%, 74%)\">lichen</span> <span style=\"background-color: hsl(0, 0%, 58%)\">wurde</span> <span style=\"background-color: hsl(0, 0%, 75%)\">aber</span> <span style=\"background-color: hsl(0, 0%, 82%)\">auch</span> <span style=\"background-color: hsl(0, 0%, 79%)\">noch</span> <span style=\"background-color: hsl(0, 0%, 79%)\">die</span> <span style=\"background-color: hsl(0, 0%, 82%)\">Freude</span> <span style=\"background-color: hsl(0, 0%, 70%)\">zu</span> <span style=\"background-color: hsl(0, 0%, 91%)\">The</span><span style=\"background-color: hsl(0, 0%, 73%)\">il</span><span style=\"background-color: hsl(0, 0%, 84%)\">,</span> <span style=\"background-color: hsl(0, 0%, 61%)\">am</span> <span style=\"background-color: hsl(0, 0%, 75%)\">21</span><span style=\"background-color: hsl(0, 0%, 62%)\">.</span> <span style=\"background-color: hsl(0, 0%, 75%)\">April</span> <span style=\"background-color: hsl(0, 0%, 72%)\">1840</span> <span style=\"background-color: hsl(0, 0%, 63%)\">sein</span> <span style=\"background-color: hsl(0, 0%, 86%)\">50</span><span style=\"background-color: hsl(0, 0%, 67%)\">jähriges</span> <span style=\"background-color: hsl(0, 0%, 81%)\">Dienst</span><span style=\"background-color: hsl(0, 0%, 78%)\">jub</span><span style=\"background-color: hsl(0, 0%, 76%)\">il</span><span style=\"background-color: hsl(0, 0%, 65%)\">äum</span> <span style=\"background-color: hsl(0, 0%, 73%)\">zu</span> <span style=\"background-color: hsl(0, 0%, 69%)\">feiern</span><span style=\"background-color: hsl(0, 0%, 75%)\">,</span> <span style=\"background-color: hsl(0, 0%, 76%)\">bei</span> <span style=\"background-color: hsl(0, 0%, 81%)\">welchem</span> <span style=\"background-color: hsl(0, 0%, 88%)\">An</span><span style=\"background-color: hsl(0, 0%, 94%)\">la</span><span style=\"background-color: hsl(0, 0%, 87%)\">ß</span> <span style=\"background-color: hsl(0, 0%, 60%)\">er</span> <span style=\"background-color: hsl(0, 0%, 71%)\">vom</span> <span style=\"background-color: hsl(0, 0%, 80%)\">König</span> <span style=\"background-color: hsl(0, 0%, 77%)\">eigen</span><span style=\"background-color: hsl(0, 0%, 95%)\">hän</span><span style=\"background-color: hsl(0, 0%, 92%)\">dig</span> <span style=\"background-color: hsl(0, 0%, 76%)\">mit</span> <span style=\"background-color: hsl(0, 0%, 79%)\">dem</span> <span style=\"background-color: hsl(0, 0%, 84%)\">Ehren</span><span style=\"background-color: hsl(0, 0%, 60%)\">kreuz</span> <span style=\"background-color: hsl(0, 0%, 75%)\">des</span> <span style=\"background-color: hsl(0, 0%, 76%)\">Ludwigs</span><span style=\"background-color: hsl(0, 0%, 50%)\">ordens</span> <span style=\"background-color: hsl(0, 0%, 78%)\">geschm</span><span style=\"background-color: hsl(0, 0%, 81%)\">ückt</span> <span style=\"background-color: hsl(0, 0%, 64%)\">wurde</span><span style=\"background-color: hsl(0, 0%, 80%)\">.</span>"
      ],
      "text/plain": [
       "<IPython.core.display.HTML object>"
      ]
     },
     "metadata": {},
     "output_type": "display_data"
    },
    {
     "data": {
      "text/html": [
       "<span style=\"background-color: hsl(0, 75%, 100%)\">Das</span> <span style=\"background-color: hsl(0, 75%, 71%)\">ist</span> <span style=\"background-color: hsl(0, 75%, 70%)\">ein</span> <span style=\"background-color: hsl(0, 75%, 64%)\">besonders</span> <span style=\"background-color: hsl(0, 75%, 50%)\">schlechter</span> <span style=\"background-color: hsl(0, 75%, 93%)\">Test</span>"
      ],
      "text/plain": [
       "<IPython.core.display.HTML object>"
      ]
     },
     "metadata": {},
     "output_type": "display_data"
    },
    {
     "data": {
      "text/html": [
       "<span style=\"background-color: hsl(120, 75%, 100%)\">Das</span> <span style=\"background-color: hsl(120, 75%, 85%)\">ist</span> <span style=\"background-color: hsl(120, 75%, 86%)\">ein</span> <span style=\"background-color: hsl(120, 75%, 84%)\">besonders</span> <span style=\"background-color: hsl(120, 75%, 50%)\">guter</span> <span style=\"background-color: hsl(120, 75%, 98%)\">Test</span>"
      ],
      "text/plain": [
       "<IPython.core.display.HTML object>"
      ]
     },
     "metadata": {},
     "output_type": "display_data"
    }
   ],
   "source": [
    "for text in texts:\n",
    "    display(HTML( explainer.to_html(explainer.explain(text), classification.get_hsl) ))"
   ]
  }
 ],
 "metadata": {
  "kernelspec": {
   "display_name": ".venv",
   "language": "python",
   "name": "python3"
  },
  "language_info": {
   "codemirror_mode": {
    "name": "ipython",
    "version": 3
   },
   "file_extension": ".py",
   "mimetype": "text/x-python",
   "name": "python",
   "nbconvert_exporter": "python",
   "pygments_lexer": "ipython3",
   "version": "3.12.9"
  }
 },
 "nbformat": 4,
 "nbformat_minor": 2
}
